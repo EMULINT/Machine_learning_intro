{
 "cells": [
  {
   "cell_type": "markdown",
   "metadata": {},
   "source": [
    "# Machine Learning"
   ]
  },
  {
   "cell_type": "markdown",
   "metadata": {},
   "source": [
    "- ML is a science of programming computers so they can learn from data.\n",
    "\n",
    "- ML is a large field of study that overlaps with and inherits ideas from many related field such as\n",
    "  Artifitial Intelligence.\n",
    "\n",
    "- The focus of the field is learning, that is, acquiring skills or knowledge from experience"
   ]
  },
  {
   "cell_type": "code",
   "execution_count": null,
   "metadata": {},
   "outputs": [],
   "source": [
    "### What´s the difference between the Rules-Based System and Machine learning System?\n",
    "\n"
   ]
  },
  {
   "cell_type": "markdown",
   "metadata": {},
   "source": [
    "### Types of learning\n",
    "\n",
    "- Supervised learning \n",
    "- Unsupervised learning\n",
    "- Reinforcement learning"
   ]
  },
  {
   "cell_type": "markdown",
   "metadata": {},
   "source": [
    "#### Supervides learning\n",
    "\n",
    "Describes a class of problem that involves using a model to learn a mapping between input examples\n",
    "and the target variable.\n",
    "\n",
    "#### Unsupervised learning\n",
    "\n",
    "Describes a class of problems that involves using a model to describe o extract relationships in data.\n",
    "\n",
    "#### Reinforcement learning\n",
    "\n",
    "Describes a class of problems where an agent operates in an enviroment and must learn to operate \n",
    "using feedback."
   ]
  },
  {
   "cell_type": "code",
   "execution_count": null,
   "metadata": {},
   "outputs": [],
   "source": [
    "### Supervised algorithms\n",
    "\n",
    "- Linear methods\n",
    "- Tree-based\n",
    "- Neighborhood-Based methods\n",
    "- Support Vector Machine\n",
    "- Probabilistic methods\n",
    "- Neural Networks\n"
   ]
  },
  {
   "cell_type": "code",
   "execution_count": null,
   "metadata": {},
   "outputs": [],
   "source": [
    "### Unsupervised algorithms\n",
    "\n",
    "- Dimensionality Reduction\n",
    "- Clustering\n",
    "- Unuspervised Deep learning learning"
   ]
  }
 ],
 "metadata": {
  "kernelspec": {
   "display_name": "Python 3",
   "language": "python",
   "name": "python3"
  },
  "language_info": {
   "codemirror_mode": {
    "name": "ipython",
    "version": 3
   },
   "file_extension": ".py",
   "mimetype": "text/x-python",
   "name": "python",
   "nbconvert_exporter": "python",
   "pygments_lexer": "ipython3",
   "version": "3.7.4"
  }
 },
 "nbformat": 4,
 "nbformat_minor": 2
}
